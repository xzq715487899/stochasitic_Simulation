{
  "nbformat": 4,
  "nbformat_minor": 0,
  "metadata": {
    "colab": {
      "name": "Stochastic Simulation HW1.ipynb",
      "provenance": [],
      "collapsed_sections": []
    },
    "kernelspec": {
      "name": "python3",
      "display_name": "Python 3"
    },
    "language_info": {
      "name": "python"
    }
  },
  "cells": [
    {
      "cell_type": "code",
      "execution_count": 12,
      "metadata": {
        "id": "QDEvDS54f6E7"
      },
      "outputs": [],
      "source": [
        "import numpy as np\n",
        "# Set number of replications\n",
        "N = 1000\n",
        "\n",
        "# fix random number seed\n",
        "np.random.seed(1)\n",
        "\n",
        "# Define lists to keep samples of the outputs across replications\n",
        "T_list = []\n",
        "Ave_list = []\n",
        "\n",
        "# Run the simulation for N times\n",
        "for i in range(1,N+1):\n",
        "  average = 0\n",
        "  X = np.random.uniform(2,8) # Define the domain and distribution of X\n",
        "  theta = max(0,X-4) # Define θ function\n",
        "  T_list.append(theta) # Update each simulation result\n",
        "  average = sum(T_list)/i # Take the average of all simulated θ\n",
        "  Ave_list.append(average) # Update the average of to list"
      ]
    },
    {
      "cell_type": "code",
      "source": [
        "print('Estimated expected θ:', np.mean(T_list))\n",
        "print ('95% CI for θ:', np.mean(T_list),'+/-',1.96*np.std(T_list, ddof = 1)/np.sqrt(N))"
      ],
      "metadata": {
        "colab": {
          "base_uri": "https://localhost:8080/"
        },
        "id": "qwgoMy_WqXIL",
        "outputId": "c1c6bbd2-0911-4e4f-bcfc-de65dd19dcd9"
      },
      "execution_count": 15,
      "outputs": [
        {
          "output_type": "stream",
          "name": "stdout",
          "text": [
            "Estimated expected θ: 1.3383673235881042\n",
            "95% CI for θ: 1.3383673235881042 +/- 0.08217292686292378\n"
          ]
        }
      ]
    },
    {
      "cell_type": "code",
      "source": [
        "import matplotlib.pyplot as plt\n",
        "X1 = range(1,1001)\n",
        "Y1 = Ave_list\n",
        "plt.figure(figsize=(9,6))\n",
        "plt.plot(X1, Y1, 'b')\n",
        "plt.title('Average of simulated θ VS Number of Simulation')\n",
        "plt.xlabel('Number of Simulation')\n",
        "plt.ylabel('θ mean')\n",
        "plt.show()"
      ],
      "metadata": {
        "id": "iDAl1DwTtUGC",
        "colab": {
          "base_uri": "https://localhost:8080/",
          "height": 404
        },
        "outputId": "3ab77013-960f-4e48-9076-f7f8a380a2f8"
      },
      "execution_count": 16,
      "outputs": [
        {
          "output_type": "display_data",
          "data": {
            "image/png": "[encoded data removed]",
            "text/plain": [
              "<Figure size 648x432 with 1 Axes>"
            ]
          },
          "metadata": {
            "needs_background": "light"
          }
        }
      ]
    },
    {
      "cell_type": "code",
      "source": [
        "import numpy as np\n",
        "import matplotlib.pyplot as plt\n",
        "\n",
        "# Set number of replications\n",
        "N = 1\n",
        "# Define lists to keep samples of the outputs across replications\n",
        "TTF_list = []\n",
        "Ave_list = []\n",
        "\n",
        "# fix random number seed\n",
        "np.random.seed(1)\n",
        "\n",
        "for rep in range (0,N):\n",
        "    # start with 2 functioning components at time 0\n",
        "    clock = 0\n",
        "    S = 2\n",
        "    # initialize the time of events\n",
        "    NextRepair = float('inf')\n",
        "    NextFailure = np.ceil(6*np.random.random())\n",
        "    EventTimes = [0]\n",
        "    States = [2]\n",
        "    # Define variables to keep the area under the sample path\n",
        "    # and the time and state of the last event\n",
        "    Area = 0.0\n",
        "    Tlast = 0\n",
        "    Slast = 2\n",
        "\n",
        "    while clock <3000:  # Change the condition to T = 1000\n",
        "        # advance the time\n",
        "        clock = min(NextRepair, NextFailure)\n",
        "\n",
        "        if NextRepair < NextFailure:\n",
        "            # next event is completion of a repair\n",
        "            S = S + 1\n",
        "            if S==2:\n",
        "              NextRepair = float('inf')  # no machine under repair\n",
        "            else: \n",
        "              NextRepair = clock + 2.5 # start repairing the second machine\n",
        "        else:\n",
        "            # next event is a failure, States cannot be below 0\n",
        "            S = max(0,S - 1)\n",
        "            # Next failture happends with at least 1 machine is running + the failure time\n",
        "            if S==0:\n",
        "              NextRepair = clock + 2.5\n",
        "              NextFailure = max(NextRepair + np.ceil(6*np.random.random()), clock + np.ceil(6*np.random.random()))\n",
        "            if S==1:\n",
        "              NextRepair = clock + 2.5\n",
        "              NextFailure = clock + np.ceil(6*np.random.random())\n",
        "\n",
        "        # Update the area under the sample path and the\n",
        "        # time and state of the last event\n",
        "        Area = Area + (min(3000,clock) - Tlast)* Slast\n",
        "        Tlast = min(3000,clock) # Clock within 3000\n",
        "        Slast = S\n",
        "\n",
        "    # The Average of S within time T = 3000\n",
        "    Ave_list.append(Area/3000)\n",
        "\n",
        "print('Estimated expected ave. # of func. comp. till T=3000:', np.mean(Ave_list))"
      ],
      "metadata": {
        "colab": {
          "base_uri": "https://localhost:8080/"
        },
        "id": "LX9cjp2H0N6v",
        "outputId": "ba20a4ea-f22e-4311-ebe6-02a50ac46357"
      },
      "execution_count": 5,
      "outputs": [
        {
          "output_type": "stream",
          "name": "stdout",
          "text": [
            "Estimated expected ave. # of func. comp. till T=3000: 1.1611666666666667\n"
          ]
        }
      ]
    },
    {
      "cell_type": "code",
      "source": [
        "import numpy as np\n",
        "import matplotlib.pyplot as plt\n",
        "\n",
        "# Set number of replications\n",
        "N = 1\n",
        "# Define lists to keep samples of the outputs across replications\n",
        "TTF_list = []\n",
        "Ave_list = []\n",
        "\n",
        "# fix random number seed\n",
        "np.random.seed(1)\n",
        "\n",
        "for rep in range (0,N):\n",
        "    # start with 2 functioning components at time 0\n",
        "    clock = 0\n",
        "    S = 2\n",
        "    # initialize the time of events\n",
        "    NextRepair = float('inf')\n",
        "    NextFailure = np.ceil(6*np.random.random())\n",
        "    EventTimes = [0]\n",
        "    States = [2]\n",
        "    # Define variables to keep the area under the sample path\n",
        "    # and the time and state of the last event\n",
        "    Area = 0.0\n",
        "    Tlast = 0\n",
        "    A_t = 1 # A_t = 1 if at least 1 machine is running, = 0 OW\n",
        "\n",
        "    while clock <3000:  # Change the condition to T = 1000\n",
        "        # advance the time\n",
        "        clock = min(NextRepair, NextFailure)\n",
        "\n",
        "        if NextRepair < NextFailure:\n",
        "            # next event is completion of a repair\n",
        "            S = S + 1\n",
        "            if S==2:\n",
        "              NextRepair = float('inf')  # no machine under repair\n",
        "            else: \n",
        "              NextRepair = clock + 2.5 # start repairing the second machine\n",
        "        else:\n",
        "            # next event is a failure, States cannot be below 0\n",
        "            S = max(0,S - 1)\n",
        "            # Next failture happends with at least 1 machine is running + the failure time\n",
        "            if S==0:\n",
        "              NextRepair = clock + 2.5\n",
        "              NextFailure = max(NextRepair + np.ceil(6*np.random.random()), clock + np.ceil(6*np.random.random()))\n",
        "            if S==1:\n",
        "              NextRepair = clock + 2.5\n",
        "              NextFailure = clock + np.ceil(6*np.random.random())\n",
        "\n",
        "        # Update the area under the sample path and the\n",
        "        # time and state of the last event\n",
        "        Area = Area + (min(3000,clock) - Tlast)* A_t\n",
        "        Tlast = min(3000,clock) # Clock within 3000\n",
        "        # if S>0 system is availbe A(t) = 1, if S=0 A(t)=0 system is down\n",
        "        if S== 0:\n",
        "          A_t = 0\n",
        "        else:\n",
        "          A_t = 1\n",
        "\n",
        "    # The Average of A_t within time T = 3000\n",
        "    Ave_list.append(Area/3000)\n",
        "\n",
        "print('Estimated expected ave. system availibility till T=3000:', np.mean(Ave_list))"
      ],
      "metadata": {
        "id": "c9Oa8Y8G18su",
        "colab": {
          "base_uri": "https://localhost:8080/"
        },
        "outputId": "d1ec89db-5137-4c1e-f379-dc3b6a1b6e2c"
      },
      "execution_count": 8,
      "outputs": [
        {
          "output_type": "stream",
          "name": "stdout",
          "text": [
            "Estimated expected ave. system availibility till T=3000: 0.8341666666666666\n"
          ]
        }
      ]
    },
    {
      "cell_type": "code",
      "source": [
        "import numpy as np\n",
        "import matplotlib.pyplot as plt\n",
        "\n",
        "# Set number of replications\n",
        "R = 1000\n",
        "# Define lists to keep samples of the outputs across replications\n",
        "TTF_list = []\n",
        "Ave_list = []\n",
        "\n",
        "# fix random number seed\n",
        "np.random.seed(1)\n",
        "\n",
        "# Set the number of components N\n",
        "N = int(input('enter the number of components in the system:'))\n",
        "for rep in range (0,R):\n",
        "    # start with 2 functioning components at time 0\n",
        "    clock = 0\n",
        "    S = N\n",
        "    # initialize the time of events\n",
        "    NextRepair = float('inf')\n",
        "    NextFailure = np.ceil(6*np.random.random())\n",
        "    EventTimes = [0]\n",
        "    States = [S]\n",
        "    # Define variables to keep the area under the sample path\n",
        "    # and the time and state of the last event\n",
        "    Area = 0.0\n",
        "    Tlast = 0\n",
        "    Slast = S\n",
        "\n",
        "    while S > 0:\n",
        "        # advance the time\n",
        "        clock = min(NextRepair, NextFailure)\n",
        "\n",
        "        if NextRepair < NextFailure:\n",
        "            # next event is completion of a repair\n",
        "            S = S + 1\n",
        "            NextRepair = float('inf')\n",
        "        else:\n",
        "            # next event is a failure\n",
        "            S = S - 1\n",
        "            if S > 0:\n",
        "                NextRepair = clock + 2.5\n",
        "                NextFailure = clock + np.ceil(6*np.random.random())\n",
        "        # Update the area under the sample path and the\n",
        "        # time and state of the last event\n",
        "        Area = Area + (clock - Tlast)* Slast\n",
        "        Tlast = clock\n",
        "        Slast = S\n",
        "\n",
        "    # save the TTF and average # of func. components\n",
        "    TTF_list.append(clock)\n",
        "    Ave_list.append(Area/clock)\n",
        "\n",
        "print('Estimated expected TTF:', np.mean(TTF_list))\n",
        "print('Estimated expected ave. # of func. comp. till failure:', np.mean(Ave_list))\n",
        "\n",
        "print ('95% CI for TTF:', np.mean(TTF_list), \"+/-\",\n",
        "       1.96*np.std(TTF_list, ddof = 1)/np.sqrt(R))\n",
        "print ('95% CI for ave. # of func. comp.:', np.mean(Ave_list), \"+/-\",\n",
        "       1.96*np.std(Ave_list, ddof = 1)/np.sqrt(R))"
      ],
      "metadata": {
        "colab": {
          "base_uri": "https://localhost:8080/"
        },
        "id": "qE-qHkAJLyxx",
        "outputId": "e10002bb-171a-4c8a-de7f-f5723ad71676"
      },
      "execution_count": 9,
      "outputs": [
        {
          "output_type": "stream",
          "name": "stdout",
          "text": [
            "enter the number of components in the system:2\n",
            "Estimated expected TTF: 13.927\n",
            "Estimated expected ave. # of func. comp. till failure: 1.568840332841451\n",
            "95% CI for TTF: 13.927 +/- 0.7274410509424089\n",
            "95% CI for ave. # of func. comp.: 1.568840332841451 +/- 0.008120648766690015\n"
          ]
        }
      ]
    },
    {
      "cell_type": "code",
      "source": [
        "import numpy as np\n",
        "import matplotlib.pyplot as plt\n",
        "\n",
        "# Set number of replications\n",
        "N = 1000\n",
        "\n",
        "# input the number of samples\n",
        "n = int(input('Enter the number of samples: '))\n",
        "\n",
        "# fix random number seed\n",
        "np.random.seed(1)\n",
        "\n",
        "Xn = []\n",
        "Ave_Xn = []\n",
        "for i in range(1,N+1):\n",
        "  for j in range(n):\n",
        "    X = np.random.uniform(0,1) # Define the domain and distribution of X\n",
        "    Xn.append(X)\n",
        "  Ave_Xn.append(np.mean(Xn))\n",
        "  Xn = []\n",
        "plt.hist(Ave_Xn)"
      ],
      "metadata": {
        "colab": {
          "base_uri": "https://localhost:8080/",
          "height": 369
        },
        "id": "ZZcnvSRvCOQE",
        "outputId": "0c205ea2-ff87-416f-fa8d-c3bb6294657b"
      },
      "execution_count": 7,
      "outputs": [
        {
          "name": "stdout",
          "output_type": "stream",
          "text": [
            "Enter the number of samples: 500\n"
          ]
        },
        {
          "output_type": "execute_result",
          "data": {
            "text/plain": [
              "(array([  8.,  27.,  88., 130., 208., 224., 179.,  93.,  33.,  10.]),\n",
              " array([0.45951331, 0.4673511 , 0.47518889, 0.48302668, 0.49086448,\n",
              "        0.49870227, 0.50654006, 0.51437785, 0.52221565, 0.53005344,\n",
              "        0.53789123]),\n",
              " <a list of 10 Patch objects>)"
            ]
          },
          "metadata": {},
          "execution_count": 7
        },
        {
          "output_type": "display_data",
          "data": {
            "image/png": "[encoded data removed]",
            "text/plain": [
              "<Figure size 432x288 with 1 Axes>"
            ]
          },
          "metadata": {
            "needs_background": "light"
          }
        }
      ]
    },
    {
      "cell_type": "code",
      "source": [
        ""
      ],
      "metadata": {
        "id": "PVAiAt0kwoeE"
      },
      "execution_count": null,
      "outputs": []
    }
  ]
}